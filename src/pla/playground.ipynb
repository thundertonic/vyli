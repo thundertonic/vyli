{
 "cells": [
  {
   "cell_type": "code",
   "execution_count": 10,
   "metadata": {},
   "outputs": [],
   "source": [
    "import numpy as np\n",
    "import matplotlib.pyplot as plt\n",
    "from mpl_toolkits.mplot3d.art3d import Poly3DCollection\n",
    "\n",
    "from main import Sphere, Box, Union\n",
    "\n",
    "from skimage import measure\n",
    "from skimage.draw import ellipsoid\n",
    "\n",
    "sdf = Union(Sphere(2), Box(np.array([1, 2, 1]))).parallel_bake_sdf(30, (-3, 3, -3, 3, -3, 3))\n",
    "# print(sdf)\n",
    "\n",
    "# Use marching cubes to obtain the surface mesh of these ellipsoids\n",
    "verts, faces, normals, values = measure.marching_cubes(\n",
    "    sdf, \n",
    "    0, \n",
    "    step_size=1,\n",
    "    allow_degenerate=False)\n",
    "\n",
    "# # Display resulting triangular mesh using Matplotlib. This can also be done\n",
    "# # with mayavi (see skimage.measure.marching_cubes docstring).\n",
    "# fig = plt.figure(figsize=(10, 10))\n",
    "# ax = fig.add_subplot(111, projection='3d')\n",
    "\n",
    "# # Fancy indexing: `verts[faces]` to generate a collection of triangles\n",
    "# mesh = Poly3DCollection(verts[faces])\n",
    "# mesh.set_edgecolor('k')\n",
    "# ax.add_collection3d(mesh)\n",
    "\n",
    "# ax.set_xlabel(\"x-axis: a = 6 per ellipsoid\")\n",
    "# ax.set_ylabel(\"y-axis: b = 10\")\n",
    "# ax.set_zlabel(\"z-axis: c = 16\")\n",
    "\n",
    "# ax.set_xlim(0, 24)  # a = 6 (times two for 2nd ellipsoid)\n",
    "# ax.set_ylim(0, 20)  # b = 10\n",
    "# ax.set_zlim(0, 32)  # c = 16\n",
    "\n",
    "# plt.tight_layout()\n",
    "# plt.show()"
   ]
  },
  {
   "cell_type": "code",
   "execution_count": 11,
   "metadata": {},
   "outputs": [],
   "source": [
    "import numpy as np\n",
    "from stl import mesh\n",
    "\n",
    "# Assuming verts, faces, and normals are generated from measure.marching_cubes\n",
    "# verts: Vertex coordinates (Nx3 array)\n",
    "# faces: Triangle faces (Mx3 array)\n",
    "# normals: Vertex normals (Nx3 array)\n",
    "\n",
    "# Create a mesh object\n",
    "mesh_data = mesh.Mesh(np.zeros(faces.shape[0], dtype=mesh.Mesh.dtype))\n",
    "\n",
    "for i, f in enumerate(faces):\n",
    "    for j in range(3):\n",
    "        mesh_data.vectors[i][j] = verts[f[j], :] / 10\n",
    "\n",
    "# Save the mesh to an STL file\n",
    "mesh_data.save('output.stl')"
   ]
  }
 ],
 "metadata": {
  "kernelspec": {
   "display_name": "venv",
   "language": "python",
   "name": "python3"
  },
  "language_info": {
   "codemirror_mode": {
    "name": "ipython",
    "version": 3
   },
   "file_extension": ".py",
   "mimetype": "text/x-python",
   "name": "python",
   "nbconvert_exporter": "python",
   "pygments_lexer": "ipython3",
   "version": "3.7.6"
  },
  "orig_nbformat": 4
 },
 "nbformat": 4,
 "nbformat_minor": 2
}
